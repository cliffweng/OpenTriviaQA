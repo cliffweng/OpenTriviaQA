{
 "cells": [
  {
   "cell_type": "code",
   "execution_count": 1,
   "metadata": {},
   "outputs": [],
   "source": [
    "import os\n",
    "import pandas as pd\n",
    "import numpy as np\n",
    "def txt_to_csv(path,file): \n",
    "  \"\"\"\n",
    "  The csv Generarted will be such:\n",
    "    |Questions | Correct | A | B | C | D |\n",
    "  0 |  myQ     |    X    | a | X | c | d |  \n",
    "  \"\"\"   \n",
    "  questions=[]\n",
    "  key=[]\n",
    "  dist1=[]\n",
    "  dist2=[]\n",
    "  dist3=[]\n",
    "  dist4=[]\n",
    "  with open(path+file, errors='ignore',mode=\"r\") as file1:\n",
    "      files = file1.readlines()\n",
    "      i=0\n",
    "      for i in range(len(files)):\n",
    "        if files[i][0]=='\\n':\n",
    "          try:\n",
    "            if files[i+1][3]=='#':\n",
    "              continue          \n",
    "            questions.append((files[i+1][3:len(files)-1]).strip())\n",
    "            key.append(files[i+2][2:len(files[i+2])-1])\n",
    "            if (files[i+3]!=\"\\n\"):\n",
    "              dist1.append(files[i+3][2:len(files[i+3])-1])\n",
    "            else:\n",
    "              dist1.append(np.nan)\n",
    "              dist2.append(np.nan)\n",
    "              dist3.append(np.nan)\n",
    "              dist4.append(np.nan)\n",
    "              continue\n",
    "            if (files[i+4]!=\"\\n\"):\n",
    "              dist2.append(files[i+4][2:len(files[i+4])-1])\n",
    "            else:\n",
    "              dist2.append(np.nan)\n",
    "              dist3.append(np.nan)\n",
    "              dist4.append(np.nan)\n",
    "              continue\n",
    "            if (files[i+5]!=\"\\n\"):\n",
    "              dist3.append(files[i+5][2:len(files[i+5])-1])\n",
    "            else:\n",
    "              dist3.append(np.nan)\n",
    "              dist4.append(np.nan)\n",
    "              continue\n",
    "            if (files[i+6]!=\"\\n\"):\n",
    "              dist4.append(files[i+6][2:len(files[i+6])-1])\n",
    "            else:\n",
    "              dist4.append(np.nan)\n",
    "          except:\n",
    "            pass\n",
    "  bank={}\n",
    "  bank[\"Category\"]=file\n",
    "  bank[\"Questions\"]=questions\n",
    "  bank[\"Correct\"]=key\n",
    "  bank[\"A\"]=dist1\n",
    "  bank[\"B\"]=dist2\n",
    "  bank[\"C\"]=dist3\n",
    "  bank[\"D\"]=dist4\n",
    "  df=pd.DataFrame(bank)\n",
    "  return df"
   ]
  },
  {
   "cell_type": "markdown",
   "metadata": {},
   "source": []
  },
  {
   "cell_type": "code",
   "execution_count": 20,
   "metadata": {},
   "outputs": [],
   "source": [
    "def parse_files(sourcePath='categories/',destination='/'):\n",
    "\n",
    "  li = []\n",
    "  for file in os.listdir(sourcePath):\n",
    "    data=txt_to_csv(sourcePath,file)\n",
    "    li.append(data)\n",
    "  return pd.concat(li, axis=0, ignore_index=True)\n",
    "\n",
    "# data.to_csv(destination+files+'.csv')"
   ]
  },
  {
   "cell_type": "code",
   "execution_count": 21,
   "metadata": {},
   "outputs": [],
   "source": [
    "data = parse_files()"
   ]
  },
  {
   "cell_type": "code",
   "execution_count": 23,
   "metadata": {},
   "outputs": [],
   "source": [
    "data.to_csv(\"trivia.csv\",index=False)"
   ]
  },
  {
   "cell_type": "code",
   "execution_count": 2,
   "metadata": {},
   "outputs": [],
   "source": [
    "df = pd.read_csv(\"trivia.csv\")"
   ]
  },
  {
   "cell_type": "code",
   "execution_count": 13,
   "metadata": {},
   "outputs": [
    {
     "data": {
      "text/html": [
       "<div>\n",
       "<style scoped>\n",
       "    .dataframe tbody tr th:only-of-type {\n",
       "        vertical-align: middle;\n",
       "    }\n",
       "\n",
       "    .dataframe tbody tr th {\n",
       "        vertical-align: top;\n",
       "    }\n",
       "\n",
       "    .dataframe thead th {\n",
       "        text-align: right;\n",
       "    }\n",
       "</style>\n",
       "<table border=\"1\" class=\"dataframe\">\n",
       "  <thead>\n",
       "    <tr style=\"text-align: right;\">\n",
       "      <th></th>\n",
       "      <th>Category</th>\n",
       "      <th>Questions</th>\n",
       "      <th>Correct</th>\n",
       "      <th>A</th>\n",
       "      <th>B</th>\n",
       "      <th>C</th>\n",
       "      <th>D</th>\n",
       "    </tr>\n",
       "  </thead>\n",
       "  <tbody>\n",
       "    <tr>\n",
       "      <th>712</th>\n",
       "      <td>animals</td>\n",
       "      <td>The two types of Chinese Crested dogs are born...</td>\n",
       "      <td>False</td>\n",
       "      <td>False</td>\n",
       "      <td>True</td>\n",
       "      <td>NaN</td>\n",
       "      <td>NaN</td>\n",
       "    </tr>\n",
       "  </tbody>\n",
       "</table>\n",
       "</div>"
      ],
      "text/plain": [
       "    Category                                          Questions Correct  \\\n",
       "712  animals  The two types of Chinese Crested dogs are born...   False   \n",
       "\n",
       "         A     B    C    D  \n",
       "712  False  True  NaN  NaN  "
      ]
     },
     "execution_count": 13,
     "metadata": {},
     "output_type": "execute_result"
    }
   ],
   "source": [
    "question = df[df['Category']=='animals'].sample(1)\n",
    "question"
   ]
  },
  {
   "cell_type": "code",
   "execution_count": 19,
   "metadata": {},
   "outputs": [
    {
     "name": "stdout",
     "output_type": "stream",
     "text": [
      "What is an adult male rooster known as?\n",
      "A Rooster\n",
      "B Buck\n",
      "C Hen\n",
      "D Foul\n",
      "The answer is: A Rooster\n"
     ]
    }
   ],
   "source": [
    "question = df[df['Category']=='animals'].sample(1)\n",
    "\n",
    "print(question['Questions'].values[0])\n",
    "answer_key = {'A':question['A'].values[0], 'B':question['B'].values[0], \n",
    "'C':question['C'].values[0], 'D':question['D'].values[0]}\n",
    "\n",
    "for key, value in answer_key.items():\n",
    "    if not value is np.nan:\n",
    "        if value == question['Correct'].values[0]:\n",
    "            answer = key\n",
    "        print(key, value)\n",
    "\n",
    "print(\"The answer is: \"+answer+\" \"+question['Correct'].values[0])"
   ]
  },
  {
   "cell_type": "code",
   "execution_count": null,
   "metadata": {},
   "outputs": [],
   "source": []
  }
 ],
 "metadata": {
  "kernelspec": {
   "display_name": "Python 3.10.7 64-bit (microsoft store)",
   "language": "python",
   "name": "python3"
  },
  "language_info": {
   "codemirror_mode": {
    "name": "ipython",
    "version": 3
   },
   "file_extension": ".py",
   "mimetype": "text/x-python",
   "name": "python",
   "nbconvert_exporter": "python",
   "pygments_lexer": "ipython3",
   "version": "3.10.7"
  },
  "orig_nbformat": 4,
  "vscode": {
   "interpreter": {
    "hash": "5f8878b0f690054f0bb624dd21021a17c04063c2283a46d93fb7a93295eb9eff"
   }
  }
 },
 "nbformat": 4,
 "nbformat_minor": 2
}
